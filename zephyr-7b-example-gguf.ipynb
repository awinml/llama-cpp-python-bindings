{
  "nbformat": 4,
  "nbformat_minor": 0,
  "metadata": {
    "colab": {
      "provenance": []
    },
    "kernelspec": {
      "name": "python3",
      "display_name": "Python 3"
    },
    "language_info": {
      "name": "python"
    }
  },
  "cells": [
    {
      "cell_type": "code",
      "source": [
        "!pip install -q llama-cpp-python"
      ],
      "metadata": {
        "id": "bVjckoAyWgTI"
      },
      "execution_count": 1,
      "outputs": []
    },
    {
      "cell_type": "code",
      "execution_count": 2,
      "metadata": {
        "id": "tWRHcNGQWK7n"
      },
      "outputs": [],
      "source": [
        "import os\n",
        "import urllib.request\n",
        "from llama_cpp import Llama"
      ]
    },
    {
      "cell_type": "code",
      "source": [
        "def download_file(file_link, filename):\n",
        "    # Checks if the file already exists before downloading\n",
        "    if not os.path.isfile(filename):\n",
        "        urllib.request.urlretrieve(file_link, filename)\n",
        "        print(\"File downloaded successfully.\")\n",
        "    else:\n",
        "        print(\"File already exists.\")\n",
        "\n",
        "# Dowloading GGML model from HuggingFace\n",
        "ggml_model_path = \"https://huggingface.co/TheBloke/zephyr-7B-beta-GGUF/resolve/main/zephyr-7b-beta.Q4_0.gguf\"\n",
        "filename = \"zephyr-7b-beta.Q4_0.gguf\"\n",
        "\n",
        "download_file(ggml_model_path, filename)"
      ],
      "metadata": {
        "colab": {
          "base_uri": "https://localhost:8080/"
        },
        "id": "-svz9NqFWjQb",
        "outputId": "c6d26830-9b69-40a0-8cc3-4cc337a22e4d"
      },
      "execution_count": 3,
      "outputs": [
        {
          "output_type": "stream",
          "name": "stdout",
          "text": [
            "File already exists.\n"
          ]
        }
      ]
    },
    {
      "cell_type": "code",
      "source": [
        "llm = Llama(model_path=\"zephyr-7b-beta.Q4_0.gguf\", n_ctx=512, n_batch=126)"
      ],
      "metadata": {
        "colab": {
          "base_uri": "https://localhost:8080/"
        },
        "id": "fAgfj1jGdCVl",
        "outputId": "baaf386f-0ee2-482a-d44b-d99f705bcdd1"
      },
      "execution_count": 4,
      "outputs": [
        {
          "output_type": "stream",
          "name": "stderr",
          "text": [
            "AVX = 1 | AVX2 = 1 | AVX512 = 0 | AVX512_VBMI = 0 | AVX512_VNNI = 0 | FMA = 1 | NEON = 0 | ARM_FMA = 0 | F16C = 1 | FP16_VA = 0 | WASM_SIMD = 0 | BLAS = 0 | SSE3 = 1 | SSSE3 = 1 | VSX = 0 | \n"
          ]
        }
      ]
    },
    {
      "cell_type": "code",
      "source": [
        "def generate_text(\n",
        "    prompt=\"Who is the CEO of Apple?\",\n",
        "    max_tokens=256,\n",
        "    temperature=0.1,\n",
        "    top_p=0.5,\n",
        "    echo=False,\n",
        "    stop=[\"#\"],\n",
        "):\n",
        "    output = llm(\n",
        "        prompt,\n",
        "        max_tokens=max_tokens,\n",
        "        temperature=temperature,\n",
        "        top_p=top_p,\n",
        "        echo=echo,\n",
        "        stop=stop,\n",
        "    )\n",
        "    output_text = output[\"choices\"][0][\"text\"].strip()\n",
        "    return output_text\n",
        "\n",
        "def generate_prompt_from_template(input):\n",
        "    chat_prompt_template = f\"\"\"<|im_start|>system\n",
        "You are a helpful chatbot.<|im_end|>\n",
        "<|im_start|>user\n",
        "{input}<|im_end|>\"\"\"\n",
        "    return chat_prompt_template"
      ],
      "metadata": {
        "id": "X0uy9OR8dFXW"
      },
      "execution_count": 5,
      "outputs": []
    },
    {
      "cell_type": "code",
      "source": [
        "prompt = generate_prompt_from_template(\"Who is the CEO of Apple?\")\n",
        "\n",
        "generate_text(\n",
        "    prompt,\n",
        "    max_tokens=356,\n",
        ")"
      ],
      "metadata": {
        "colab": {
          "base_uri": "https://localhost:8080/",
          "height": 35
        },
        "id": "a3nuNFeFdFSN",
        "outputId": "0f306fae-7304-4cef-fe7e-503f7639c3bd"
      },
      "execution_count": 6,
      "outputs": [
        {
          "output_type": "execute_result",
          "data": {
            "text/plain": [
              "'As of my training data, the CEO of Apple Inc. Is Tim Cook, who has been serving in this position since August 2011. Prior to that, Steve Jobs was the CEO of Apple from 1997 until his death in 2011.'"
            ],
            "application/vnd.google.colaboratory.intrinsic+json": {
              "type": "string"
            }
          },
          "metadata": {},
          "execution_count": 6
        }
      ]
    },
    {
      "cell_type": "code",
      "source": [
        "prompt = generate_prompt_from_template(\n",
        "    \"Compose an engaging travel blog post about a recent trip to Hawaii, highlighting cultural experiences and must-see attractions.\"\n",
        "    )\n",
        "\n",
        "generate_text(\n",
        "    prompt,\n",
        "    max_tokens=356,\n",
        ")"
      ],
      "metadata": {
        "colab": {
          "base_uri": "https://localhost:8080/",
          "height": 122
        },
        "id": "9Fsasg5JdFN-",
        "outputId": "7710875f-12bc-4934-9bb2-231aba95f9ee"
      },
      "execution_count": 7,
      "outputs": [
        {
          "output_type": "stream",
          "name": "stderr",
          "text": [
            "Llama.generate: prefix-match hit\n"
          ]
        },
        {
          "output_type": "execute_result",
          "data": {
            "text/plain": [
              "\"As the sun began to set over the Pacific Ocean, I found myself standing on the shores of Waikiki Beach in Honolulu, Hawaii. The vibrant colors of the sky painted an otherworldly scene that left me breathless. This was just the beginning of my unforgettable journey through the Aloha State.\\n\\nHawaii is a place like no other, where lush greenery meets crystal-clear waters and ancient traditions coexist with modern amenities. My trip to Hawaii was a cultural immersion that left me feeling enriched and inspired. Here are some of the highlights of my journey:\\n\\n1. Pearl Harbor National Memorial\\n\\nNo visit to Hawaii is complete without paying tribute to the brave men and women who lost their lives at Pearl Harbor during the infamous attack in 1941. The Pearl Harbor National Memorial, also known as the USS Arizona Memorial, is a solemn reminder of the sacrifices made by our forefathers. I was moved by the powerful exhibits that chronicled the events leading up to the attack and the aftermath that followed.\\n\\n2. Diamond Head State Monument\\n\\nLocated on the southeastern coast of Oahu, Diamond Head is a volcanic crater that offers breathtaking views of the island. The hike to the summit is challenging but rewarding, with stunning panoramic vistas that are worth every step. I was awestruck by the beauty and serenity of this natural wonder, which reminded me of the power and majesty of Mother Nature.\\n\\n3. Luau at Germaine's Luau\\n\\nA traditional Hawaiian feast or luau\""
            ],
            "application/vnd.google.colaboratory.intrinsic+json": {
              "type": "string"
            }
          },
          "metadata": {},
          "execution_count": 7
        }
      ]
    }
  ]
}